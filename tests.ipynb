{
 "cells": [
  {
   "cell_type": "code",
   "execution_count": 136,
   "metadata": {},
   "outputs": [],
   "source": [
    "import numpy as np"
   ]
  },
  {
   "cell_type": "code",
   "execution_count": 1,
   "metadata": {},
   "outputs": [],
   "source": [
    "import pandas as pd\n",
    "import yfinance as yf\n",
    "import sqlite3"
   ]
  },
  {
   "cell_type": "code",
   "execution_count": 181,
   "metadata": {},
   "outputs": [],
   "source": [
    "df = pd.read_csv('./data/IBrA.csv', delimiter=';')"
   ]
  },
  {
   "cell_type": "code",
   "execution_count": 182,
   "metadata": {},
   "outputs": [
    {
     "data": {
      "text/html": [
       "<div>\n",
       "<style scoped>\n",
       "    .dataframe tbody tr th:only-of-type {\n",
       "        vertical-align: middle;\n",
       "    }\n",
       "\n",
       "    .dataframe tbody tr th {\n",
       "        vertical-align: top;\n",
       "    }\n",
       "\n",
       "    .dataframe thead th {\n",
       "        text-align: right;\n",
       "    }\n",
       "</style>\n",
       "<table border=\"1\" class=\"dataframe\">\n",
       "  <thead>\n",
       "    <tr style=\"text-align: right;\">\n",
       "      <th></th>\n",
       "      <th>Código</th>\n",
       "      <th>Ação</th>\n",
       "      <th>Tipo</th>\n",
       "      <th>Qtde. Teórica</th>\n",
       "      <th>Part. (%)</th>\n",
       "    </tr>\n",
       "  </thead>\n",
       "  <tbody>\n",
       "    <tr>\n",
       "      <td>0</td>\n",
       "      <td>AALR3</td>\n",
       "      <td>ALLIAR</td>\n",
       "      <td>ON NM</td>\n",
       "      <td>46.716.473</td>\n",
       "      <td>0,019</td>\n",
       "    </tr>\n",
       "    <tr>\n",
       "      <td>1</td>\n",
       "      <td>ABCB4</td>\n",
       "      <td>ABC BRASIL</td>\n",
       "      <td>PN EJS N2</td>\n",
       "      <td>73.745.621</td>\n",
       "      <td>0,044</td>\n",
       "    </tr>\n",
       "    <tr>\n",
       "      <td>2</td>\n",
       "      <td>ABEV3</td>\n",
       "      <td>AMBEV S/A</td>\n",
       "      <td>ON</td>\n",
       "      <td>4.355.174.839</td>\n",
       "      <td>2,638</td>\n",
       "    </tr>\n",
       "    <tr>\n",
       "      <td>3</td>\n",
       "      <td>ALPA4</td>\n",
       "      <td>ALPARGATAS</td>\n",
       "      <td>PN N1</td>\n",
       "      <td>168.770.200</td>\n",
       "      <td>0,251</td>\n",
       "    </tr>\n",
       "    <tr>\n",
       "      <td>4</td>\n",
       "      <td>ALSO3</td>\n",
       "      <td>ALIANSCSONAE</td>\n",
       "      <td>ON NM</td>\n",
       "      <td>127.376.805</td>\n",
       "      <td>0,129</td>\n",
       "    </tr>\n",
       "    <tr>\n",
       "      <td>...</td>\n",
       "      <td>...</td>\n",
       "      <td>...</td>\n",
       "      <td>...</td>\n",
       "      <td>...</td>\n",
       "      <td>...</td>\n",
       "    </tr>\n",
       "    <tr>\n",
       "      <td>159</td>\n",
       "      <td>VULC3</td>\n",
       "      <td>VULCABRAS</td>\n",
       "      <td>ON NM</td>\n",
       "      <td>74.685.291</td>\n",
       "      <td>0,022</td>\n",
       "    </tr>\n",
       "    <tr>\n",
       "      <td>160</td>\n",
       "      <td>VVAR3</td>\n",
       "      <td>VIAVAREJO</td>\n",
       "      <td>ON ATZ NM</td>\n",
       "      <td>1.595.083.594</td>\n",
       "      <td>0,934</td>\n",
       "    </tr>\n",
       "    <tr>\n",
       "      <td>161</td>\n",
       "      <td>WEGE3</td>\n",
       "      <td>WEG</td>\n",
       "      <td>ON NM</td>\n",
       "      <td>741.148.001</td>\n",
       "      <td>2,281</td>\n",
       "    </tr>\n",
       "    <tr>\n",
       "      <td>162</td>\n",
       "      <td>WIZS3</td>\n",
       "      <td>WIZ S.A.</td>\n",
       "      <td>ON NM</td>\n",
       "      <td>77.453.769</td>\n",
       "      <td>0,022</td>\n",
       "    </tr>\n",
       "    <tr>\n",
       "      <td>163</td>\n",
       "      <td>YDUQ3</td>\n",
       "      <td>YDUQS PART</td>\n",
       "      <td>ON NM</td>\n",
       "      <td>300.483.575</td>\n",
       "      <td>0,374</td>\n",
       "    </tr>\n",
       "  </tbody>\n",
       "</table>\n",
       "<p>164 rows × 5 columns</p>\n",
       "</div>"
      ],
      "text/plain": [
       "    Código           Ação       Tipo  Qtde. Teórica Part. (%)\n",
       "0     AALR3        ALLIAR      ON NM     46.716.473     0,019\n",
       "1     ABCB4    ABC BRASIL  PN EJS N2     73.745.621     0,044\n",
       "2     ABEV3     AMBEV S/A         ON  4.355.174.839     2,638\n",
       "3     ALPA4    ALPARGATAS      PN N1    168.770.200     0,251\n",
       "4     ALSO3  ALIANSCSONAE      ON NM    127.376.805     0,129\n",
       "..      ...           ...        ...            ...       ...\n",
       "159   VULC3     VULCABRAS      ON NM     74.685.291     0,022\n",
       "160   VVAR3     VIAVAREJO  ON ATZ NM  1.595.083.594     0,934\n",
       "161   WEGE3           WEG      ON NM    741.148.001     2,281\n",
       "162   WIZS3      WIZ S.A.      ON NM     77.453.769     0,022\n",
       "163   YDUQ3    YDUQS PART      ON NM    300.483.575     0,374\n",
       "\n",
       "[164 rows x 5 columns]"
      ]
     },
     "execution_count": 182,
     "metadata": {},
     "output_type": "execute_result"
    }
   ],
   "source": [
    "df"
   ]
  },
  {
   "cell_type": "code",
   "execution_count": 183,
   "metadata": {},
   "outputs": [
    {
     "data": {
      "text/plain": [
       "0      AALR3\n",
       "1      ABCB4\n",
       "2      ABEV3\n",
       "3      ALPA4\n",
       "4      ALSO3\n",
       "       ...  \n",
       "159    VULC3\n",
       "160    VVAR3\n",
       "161    WEGE3\n",
       "162    WIZS3\n",
       "163    YDUQ3\n",
       "Name: Codigo, Length: 164, dtype: object"
      ]
     },
     "execution_count": 183,
     "metadata": {},
     "output_type": "execute_result"
    }
   ],
   "source": [
    "df.columns = ['Codigo', 'Empresa', 'Tipo', 'Qtd_Teorica', 'Part']\n",
    "acoes = df.Codigo\n",
    "acoes"
   ]
  },
  {
   "cell_type": "code",
   "execution_count": 187,
   "metadata": {},
   "outputs": [],
   "source": [
    "codigos = pd.read_csv('./data/acoes.csv', names=['Codigo'])\n",
    "acoes = codigos.Codigo\n",
    "acoes = [i + '.SA' for i in acoes]\n",
    "acoes = pd.Series(acoes)\n",
    "acoes.to_csv('./data/acoes.csv', header=False, index=False)"
   ]
  },
  {
   "cell_type": "code",
   "execution_count": 194,
   "metadata": {},
   "outputs": [
    {
     "name": "stdout",
     "output_type": "stream",
     "text": [
      "Posso fazer esta comparação\n"
     ]
    }
   ],
   "source": [
    "a = None\n",
    "if(type(codigos) == pd.core.frame.DataFrame):\n",
    "    print('Posso fazer esta comparação')"
   ]
  },
  {
   "cell_type": "code",
   "execution_count": 185,
   "metadata": {
    "scrolled": true
   },
   "outputs": [],
   "source": [
    "acoes.to_csv('./data/acoes.csv', index=False, header=False)"
   ]
  },
  {
   "cell_type": "code",
   "execution_count": 116,
   "metadata": {},
   "outputs": [],
   "source": [
    "today = pd.datetime.today()\n",
    "today = str(today)[0:10]"
   ]
  },
  {
   "cell_type": "code",
   "execution_count": 195,
   "metadata": {},
   "outputs": [],
   "source": [
    "?yf.download"
   ]
  },
  {
   "cell_type": "code",
   "execution_count": 196,
   "metadata": {},
   "outputs": [
    {
     "data": {
      "text/plain": [
       "True"
      ]
     },
     "execution_count": 196,
     "metadata": {},
     "output_type": "execute_result"
    }
   ],
   "source": [
    "today = pd.datetime.today()\n",
    "today = str(today)[0:10]\n",
    "inicio = '1900-01-01'\n",
    "pd.to_datetime(inicio) < pd.to_datetime(today)"
   ]
  },
  {
   "cell_type": "code",
   "execution_count": 119,
   "metadata": {},
   "outputs": [
    {
     "name": "stdout",
     "output_type": "stream",
     "text": [
      "[*********************100%***********************]  1 of 1 completed\n"
     ]
    }
   ],
   "source": [
    "new_data = yf.download('AAPL', start='2000-01-01', end=today)"
   ]
  },
  {
   "cell_type": "code",
   "execution_count": 120,
   "metadata": {},
   "outputs": [
    {
     "data": {
      "text/html": [
       "<div>\n",
       "<style scoped>\n",
       "    .dataframe tbody tr th:only-of-type {\n",
       "        vertical-align: middle;\n",
       "    }\n",
       "\n",
       "    .dataframe tbody tr th {\n",
       "        vertical-align: top;\n",
       "    }\n",
       "\n",
       "    .dataframe thead th {\n",
       "        text-align: right;\n",
       "    }\n",
       "</style>\n",
       "<table border=\"1\" class=\"dataframe\">\n",
       "  <thead>\n",
       "    <tr style=\"text-align: right;\">\n",
       "      <th></th>\n",
       "      <th>Open</th>\n",
       "      <th>High</th>\n",
       "      <th>Low</th>\n",
       "      <th>Close</th>\n",
       "      <th>Adj Close</th>\n",
       "      <th>Volume</th>\n",
       "    </tr>\n",
       "    <tr>\n",
       "      <th>Date</th>\n",
       "      <th></th>\n",
       "      <th></th>\n",
       "      <th></th>\n",
       "      <th></th>\n",
       "      <th></th>\n",
       "      <th></th>\n",
       "    </tr>\n",
       "  </thead>\n",
       "  <tbody>\n",
       "    <tr>\n",
       "      <td>1986-03-13</td>\n",
       "      <td>0.088542</td>\n",
       "      <td>0.101562</td>\n",
       "      <td>0.088542</td>\n",
       "      <td>0.097222</td>\n",
       "      <td>0.061893</td>\n",
       "      <td>1031788800</td>\n",
       "    </tr>\n",
       "    <tr>\n",
       "      <td>1986-03-14</td>\n",
       "      <td>0.097222</td>\n",
       "      <td>0.102431</td>\n",
       "      <td>0.097222</td>\n",
       "      <td>0.100694</td>\n",
       "      <td>0.064103</td>\n",
       "      <td>308160000</td>\n",
       "    </tr>\n",
       "    <tr>\n",
       "      <td>1986-03-17</td>\n",
       "      <td>0.100694</td>\n",
       "      <td>0.103299</td>\n",
       "      <td>0.100694</td>\n",
       "      <td>0.102431</td>\n",
       "      <td>0.065209</td>\n",
       "      <td>133171200</td>\n",
       "    </tr>\n",
       "    <tr>\n",
       "      <td>1986-03-18</td>\n",
       "      <td>0.102431</td>\n",
       "      <td>0.103299</td>\n",
       "      <td>0.098958</td>\n",
       "      <td>0.099826</td>\n",
       "      <td>0.063551</td>\n",
       "      <td>67766400</td>\n",
       "    </tr>\n",
       "    <tr>\n",
       "      <td>1986-03-19</td>\n",
       "      <td>0.099826</td>\n",
       "      <td>0.100694</td>\n",
       "      <td>0.097222</td>\n",
       "      <td>0.098090</td>\n",
       "      <td>0.062446</td>\n",
       "      <td>47894400</td>\n",
       "    </tr>\n",
       "    <tr>\n",
       "      <td>...</td>\n",
       "      <td>...</td>\n",
       "      <td>...</td>\n",
       "      <td>...</td>\n",
       "      <td>...</td>\n",
       "      <td>...</td>\n",
       "      <td>...</td>\n",
       "    </tr>\n",
       "    <tr>\n",
       "      <td>2021-01-12</td>\n",
       "      <td>216.500000</td>\n",
       "      <td>217.100006</td>\n",
       "      <td>213.320007</td>\n",
       "      <td>214.929993</td>\n",
       "      <td>214.929993</td>\n",
       "      <td>23249300</td>\n",
       "    </tr>\n",
       "    <tr>\n",
       "      <td>2021-01-13</td>\n",
       "      <td>214.020004</td>\n",
       "      <td>216.759995</td>\n",
       "      <td>213.929993</td>\n",
       "      <td>216.339996</td>\n",
       "      <td>216.339996</td>\n",
       "      <td>20087100</td>\n",
       "    </tr>\n",
       "    <tr>\n",
       "      <td>2021-01-14</td>\n",
       "      <td>215.910004</td>\n",
       "      <td>217.460007</td>\n",
       "      <td>212.740005</td>\n",
       "      <td>213.020004</td>\n",
       "      <td>213.020004</td>\n",
       "      <td>29480800</td>\n",
       "    </tr>\n",
       "    <tr>\n",
       "      <td>2021-01-15</td>\n",
       "      <td>213.520004</td>\n",
       "      <td>214.509995</td>\n",
       "      <td>212.029999</td>\n",
       "      <td>212.649994</td>\n",
       "      <td>212.649994</td>\n",
       "      <td>31746500</td>\n",
       "    </tr>\n",
       "    <tr>\n",
       "      <td>2021-01-19</td>\n",
       "      <td>213.750000</td>\n",
       "      <td>216.072098</td>\n",
       "      <td>212.630005</td>\n",
       "      <td>215.940002</td>\n",
       "      <td>215.940002</td>\n",
       "      <td>14431074</td>\n",
       "    </tr>\n",
       "  </tbody>\n",
       "</table>\n",
       "<p>8785 rows × 6 columns</p>\n",
       "</div>"
      ],
      "text/plain": [
       "                  Open        High         Low       Close   Adj Close  \\\n",
       "Date                                                                     \n",
       "1986-03-13    0.088542    0.101562    0.088542    0.097222    0.061893   \n",
       "1986-03-14    0.097222    0.102431    0.097222    0.100694    0.064103   \n",
       "1986-03-17    0.100694    0.103299    0.100694    0.102431    0.065209   \n",
       "1986-03-18    0.102431    0.103299    0.098958    0.099826    0.063551   \n",
       "1986-03-19    0.099826    0.100694    0.097222    0.098090    0.062446   \n",
       "...                ...         ...         ...         ...         ...   \n",
       "2021-01-12  216.500000  217.100006  213.320007  214.929993  214.929993   \n",
       "2021-01-13  214.020004  216.759995  213.929993  216.339996  216.339996   \n",
       "2021-01-14  215.910004  217.460007  212.740005  213.020004  213.020004   \n",
       "2021-01-15  213.520004  214.509995  212.029999  212.649994  212.649994   \n",
       "2021-01-19  213.750000  216.072098  212.630005  215.940002  215.940002   \n",
       "\n",
       "                Volume  \n",
       "Date                    \n",
       "1986-03-13  1031788800  \n",
       "1986-03-14   308160000  \n",
       "1986-03-17   133171200  \n",
       "1986-03-18    67766400  \n",
       "1986-03-19    47894400  \n",
       "...                ...  \n",
       "2021-01-12    23249300  \n",
       "2021-01-13    20087100  \n",
       "2021-01-14    29480800  \n",
       "2021-01-15    31746500  \n",
       "2021-01-19    14431074  \n",
       "\n",
       "[8785 rows x 6 columns]"
      ]
     },
     "execution_count": 120,
     "metadata": {},
     "output_type": "execute_result"
    }
   ],
   "source": [
    "msft"
   ]
  },
  {
   "cell_type": "code",
   "execution_count": 170,
   "metadata": {
    "scrolled": true
   },
   "outputs": [
    {
     "name": "stdout",
     "output_type": "stream",
     "text": [
      "[*********************100%***********************]  1 of 1 completed\n"
     ]
    },
    {
     "data": {
      "text/plain": [
       "Index(['Open', 'High', 'Low', 'Close', 'Adj Close', 'Volume'], dtype='object')"
      ]
     },
     "execution_count": 170,
     "metadata": {},
     "output_type": "execute_result"
    }
   ],
   "source": [
    "ticker = 'MSFT'\n",
    "new_data = yf.download(ticker, start='2000-01-01', end=today)\n",
    "new_data.columns"
   ]
  },
  {
   "cell_type": "code",
   "execution_count": 171,
   "metadata": {},
   "outputs": [
    {
     "data": {
      "text/plain": [
       "'Open'"
      ]
     },
     "execution_count": 171,
     "metadata": {},
     "output_type": "execute_result"
    }
   ],
   "source": [
    "new_data.columns[0]"
   ]
  },
  {
   "cell_type": "code",
   "execution_count": 172,
   "metadata": {},
   "outputs": [],
   "source": [
    "lista = list(new_data.columns)"
   ]
  },
  {
   "cell_type": "code",
   "execution_count": 173,
   "metadata": {},
   "outputs": [],
   "source": [
    "lista = [f'(\"{ticker}\", \"'+ i +'\")' for i in lista]"
   ]
  },
  {
   "cell_type": "code",
   "execution_count": 174,
   "metadata": {},
   "outputs": [
    {
     "data": {
      "text/plain": [
       "['(\"MSFT\", \"Open\")',\n",
       " '(\"MSFT\", \"High\")',\n",
       " '(\"MSFT\", \"Low\")',\n",
       " '(\"MSFT\", \"Close\")',\n",
       " '(\"MSFT\", \"Adj Close\")',\n",
       " '(\"MSFT\", \"Volume\")']"
      ]
     },
     "execution_count": 174,
     "metadata": {},
     "output_type": "execute_result"
    }
   ],
   "source": [
    "lista"
   ]
  },
  {
   "cell_type": "code",
   "execution_count": 178,
   "metadata": {},
   "outputs": [
    {
     "data": {
      "text/plain": [
       "('MSFT', 'Open')"
      ]
     },
     "execution_count": 178,
     "metadata": {},
     "output_type": "execute_result"
    }
   ],
   "source": [
    "literal_eval(lista[0])"
   ]
  },
  {
   "cell_type": "code",
   "execution_count": 179,
   "metadata": {},
   "outputs": [],
   "source": [
    "?new_data.to_csv"
   ]
  },
  {
   "cell_type": "code",
   "execution_count": 164,
   "metadata": {},
   "outputs": [
    {
     "ename": "TypeError",
     "evalue": "Expected tuple, got str",
     "output_type": "error",
     "traceback": [
      "\u001b[1;31m---------------------------------------------------------------------------\u001b[0m",
      "\u001b[1;31mTypeError\u001b[0m                                 Traceback (most recent call last)",
      "\u001b[1;32m<ipython-input-164-ef99345fc7b3>\u001b[0m in \u001b[0;36m<module>\u001b[1;34m\u001b[0m\n\u001b[1;32m----> 1\u001b[1;33m \u001b[0mnew_data\u001b[0m\u001b[1;33m.\u001b[0m\u001b[0mcolumns\u001b[0m \u001b[1;33m=\u001b[0m \u001b[0mpd\u001b[0m\u001b[1;33m.\u001b[0m\u001b[0mMultiIndex\u001b[0m\u001b[1;33m.\u001b[0m\u001b[0mfrom_tuples\u001b[0m\u001b[1;33m(\u001b[0m\u001b[0mnew_data\u001b[0m\u001b[1;33m.\u001b[0m\u001b[0mcolumns\u001b[0m\u001b[1;33m)\u001b[0m\u001b[1;33m\u001b[0m\u001b[1;33m\u001b[0m\u001b[0m\n\u001b[0m",
      "\u001b[1;32m~\\Anaconda3\\lib\\site-packages\\pandas\\core\\indexes\\multi.py\u001b[0m in \u001b[0;36mfrom_tuples\u001b[1;34m(cls, tuples, sortorder, names)\u001b[0m\n\u001b[0;32m    481\u001b[0m                 \u001b[0mtuples\u001b[0m \u001b[1;33m=\u001b[0m \u001b[0mtuples\u001b[0m\u001b[1;33m.\u001b[0m\u001b[0m_values\u001b[0m\u001b[1;33m\u001b[0m\u001b[1;33m\u001b[0m\u001b[0m\n\u001b[0;32m    482\u001b[0m \u001b[1;33m\u001b[0m\u001b[0m\n\u001b[1;32m--> 483\u001b[1;33m             \u001b[0marrays\u001b[0m \u001b[1;33m=\u001b[0m \u001b[0mlist\u001b[0m\u001b[1;33m(\u001b[0m\u001b[0mlib\u001b[0m\u001b[1;33m.\u001b[0m\u001b[0mtuples_to_object_array\u001b[0m\u001b[1;33m(\u001b[0m\u001b[0mtuples\u001b[0m\u001b[1;33m)\u001b[0m\u001b[1;33m.\u001b[0m\u001b[0mT\u001b[0m\u001b[1;33m)\u001b[0m\u001b[1;33m\u001b[0m\u001b[1;33m\u001b[0m\u001b[0m\n\u001b[0m\u001b[0;32m    484\u001b[0m         \u001b[1;32melif\u001b[0m \u001b[0misinstance\u001b[0m\u001b[1;33m(\u001b[0m\u001b[0mtuples\u001b[0m\u001b[1;33m,\u001b[0m \u001b[0mlist\u001b[0m\u001b[1;33m)\u001b[0m\u001b[1;33m:\u001b[0m\u001b[1;33m\u001b[0m\u001b[1;33m\u001b[0m\u001b[0m\n\u001b[0;32m    485\u001b[0m             \u001b[0marrays\u001b[0m \u001b[1;33m=\u001b[0m \u001b[0mlist\u001b[0m\u001b[1;33m(\u001b[0m\u001b[0mlib\u001b[0m\u001b[1;33m.\u001b[0m\u001b[0mto_object_array_tuples\u001b[0m\u001b[1;33m(\u001b[0m\u001b[0mtuples\u001b[0m\u001b[1;33m)\u001b[0m\u001b[1;33m.\u001b[0m\u001b[0mT\u001b[0m\u001b[1;33m)\u001b[0m\u001b[1;33m\u001b[0m\u001b[1;33m\u001b[0m\u001b[0m\n",
      "\u001b[1;32mpandas\\_libs\\lib.pyx\u001b[0m in \u001b[0;36mpandas._libs.lib.tuples_to_object_array\u001b[1;34m()\u001b[0m\n",
      "\u001b[1;31mTypeError\u001b[0m: Expected tuple, got str"
     ]
    }
   ],
   "source": [
    "new_data.columns = pd.MultiIndex.from_tuples(new_data.columns)"
   ]
  },
  {
   "cell_type": "code",
   "execution_count": 126,
   "metadata": {},
   "outputs": [
    {
     "data": {
      "text/plain": [
       "tuple"
      ]
     },
     "execution_count": 126,
     "metadata": {},
     "output_type": "execute_result"
    }
   ],
   "source": [
    "from ast import literal_eval\n",
    "type(literal_eval(\"(2, 5, 6)\"))"
   ]
  },
  {
   "cell_type": "code",
   "execution_count": 86,
   "metadata": {},
   "outputs": [
    {
     "data": {
      "text/plain": [
       "NaN         0\n",
       "0.0         0\n",
       "1.0         0\n",
       "2.0         0\n",
       "3.0         0\n",
       "         ... \n",
       "167.0     163\n",
       "168.0    AAPL\n",
       "169.0    AAPL\n",
       "170.0    APPL\n",
       "171.0    AAPL\n",
       "Name: Codigo, Length: 173, dtype: object"
      ]
     },
     "execution_count": 86,
     "metadata": {},
     "output_type": "execute_result"
    }
   ],
   "source": [
    "tickers = pd.read_csv('./data/acoes.csv', names=['Codigo']).Codigo\n",
    "tickers"
   ]
  },
  {
   "cell_type": "code",
   "execution_count": 64,
   "metadata": {},
   "outputs": [],
   "source": [
    "tickers = tickers.append(pd.Series('AAPL'), ignore_index=True)"
   ]
  },
  {
   "cell_type": "code",
   "execution_count": 70,
   "metadata": {},
   "outputs": [
    {
     "name": "stderr",
     "output_type": "stream",
     "text": [
      "C:\\Users\\rafae\\Anaconda3\\lib\\site-packages\\ipykernel_launcher.py:1: FutureWarning: The signature of `Series.to_csv` was aligned to that of `DataFrame.to_csv`, and argument 'header' will change its default value from False to True: please pass an explicit value to suppress this warning.\n",
      "  \"\"\"Entry point for launching an IPython kernel.\n"
     ]
    }
   ],
   "source": [
    "tickers.to_csv('./data/acoes.csv')"
   ]
  },
  {
   "cell_type": "code",
   "execution_count": 50,
   "metadata": {},
   "outputs": [
    {
     "data": {
      "text/html": [
       "<div>\n",
       "<style scoped>\n",
       "    .dataframe tbody tr th:only-of-type {\n",
       "        vertical-align: middle;\n",
       "    }\n",
       "\n",
       "    .dataframe tbody tr th {\n",
       "        vertical-align: top;\n",
       "    }\n",
       "\n",
       "    .dataframe thead th {\n",
       "        text-align: right;\n",
       "    }\n",
       "</style>\n",
       "<table border=\"1\" class=\"dataframe\">\n",
       "  <thead>\n",
       "    <tr style=\"text-align: right;\">\n",
       "      <th></th>\n",
       "      <th>Codigo</th>\n",
       "    </tr>\n",
       "  </thead>\n",
       "  <tbody>\n",
       "    <tr>\n",
       "      <td>0</td>\n",
       "      <td>AALR3.SA</td>\n",
       "    </tr>\n",
       "    <tr>\n",
       "      <td>1</td>\n",
       "      <td>ABCB4.SA</td>\n",
       "    </tr>\n",
       "    <tr>\n",
       "      <td>2</td>\n",
       "      <td>ABEV3.SA</td>\n",
       "    </tr>\n",
       "    <tr>\n",
       "      <td>3</td>\n",
       "      <td>ALPA4.SA</td>\n",
       "    </tr>\n",
       "    <tr>\n",
       "      <td>4</td>\n",
       "      <td>ALSO3.SA</td>\n",
       "    </tr>\n",
       "    <tr>\n",
       "      <td>...</td>\n",
       "      <td>...</td>\n",
       "    </tr>\n",
       "    <tr>\n",
       "      <td>159</td>\n",
       "      <td>VULC3.SA</td>\n",
       "    </tr>\n",
       "    <tr>\n",
       "      <td>160</td>\n",
       "      <td>VVAR3.SA</td>\n",
       "    </tr>\n",
       "    <tr>\n",
       "      <td>161</td>\n",
       "      <td>WEGE3.SA</td>\n",
       "    </tr>\n",
       "    <tr>\n",
       "      <td>162</td>\n",
       "      <td>WIZS3.SA</td>\n",
       "    </tr>\n",
       "    <tr>\n",
       "      <td>163</td>\n",
       "      <td>YDUQ3.SA</td>\n",
       "    </tr>\n",
       "  </tbody>\n",
       "</table>\n",
       "<p>164 rows × 1 columns</p>\n",
       "</div>"
      ],
      "text/plain": [
       "       Codigo\n",
       "0    AALR3.SA\n",
       "1    ABCB4.SA\n",
       "2    ABEV3.SA\n",
       "3    ALPA4.SA\n",
       "4    ALSO3.SA\n",
       "..        ...\n",
       "159  VULC3.SA\n",
       "160  VVAR3.SA\n",
       "161  WEGE3.SA\n",
       "162  WIZS3.SA\n",
       "163  YDUQ3.SA\n",
       "\n",
       "[164 rows x 1 columns]"
      ]
     },
     "execution_count": 50,
     "metadata": {},
     "output_type": "execute_result"
    }
   ],
   "source": [
    "tickers = pd.read_csv('./data/acoes.csv', names=['Codigo'])\n",
    "tickers"
   ]
  },
  {
   "cell_type": "code",
   "execution_count": 54,
   "metadata": {},
   "outputs": [
    {
     "data": {
      "text/plain": [
       "list"
      ]
     },
     "execution_count": 54,
     "metadata": {},
     "output_type": "execute_result"
    }
   ],
   "source": [
    "type(list(tickers.Codigo))"
   ]
  },
  {
   "cell_type": "code",
   "execution_count": 56,
   "metadata": {},
   "outputs": [],
   "source": [
    "a = pd.to_datetime('2021-01-20')\n",
    "b = pd.to_datetime('2021-01-19')"
   ]
  },
  {
   "cell_type": "code",
   "execution_count": 57,
   "metadata": {},
   "outputs": [
    {
     "data": {
      "text/plain": [
       "True"
      ]
     },
     "execution_count": 57,
     "metadata": {},
     "output_type": "execute_result"
    }
   ],
   "source": [
    "a > b"
   ]
  },
  {
   "cell_type": "code",
   "execution_count": 55,
   "metadata": {},
   "outputs": [],
   "source": [
    "?pd.to_datetime"
   ]
  },
  {
   "cell_type": "code",
   "execution_count": 5,
   "metadata": {},
   "outputs": [],
   "source": [
    "t = pd.datetime.today()"
   ]
  },
  {
   "cell_type": "code",
   "execution_count": 25,
   "metadata": {},
   "outputs": [
    {
     "data": {
      "text/plain": [
       "'2021-01-14'"
      ]
     },
     "execution_count": 25,
     "metadata": {},
     "output_type": "execute_result"
    }
   ],
   "source": [
    "str(t)[0:10]"
   ]
  },
  {
   "cell_type": "code",
   "execution_count": 26,
   "metadata": {},
   "outputs": [
    {
     "data": {
      "text/plain": [
       "'2021-01-14'"
      ]
     },
     "execution_count": 26,
     "metadata": {},
     "output_type": "execute_result"
    }
   ],
   "source": [
    "str(pd.datetime.today())[0:10]"
   ]
  },
  {
   "cell_type": "code",
   "execution_count": 27,
   "metadata": {},
   "outputs": [
    {
     "data": {
      "text/plain": [
       "Timestamp('2021-01-13 00:00:00')"
      ]
     },
     "execution_count": 27,
     "metadata": {},
     "output_type": "execute_result"
    }
   ],
   "source": [
    "pd.to_datetime(-1, unit='D', origin=t)"
   ]
  },
  {
   "cell_type": "code",
   "execution_count": 28,
   "metadata": {},
   "outputs": [
    {
     "data": {
      "text/plain": [
       "datetime.datetime(2021, 1, 14, 8, 36, 23, 456910)"
      ]
     },
     "execution_count": 28,
     "metadata": {},
     "output_type": "execute_result"
    }
   ],
   "source": [
    "t"
   ]
  },
  {
   "cell_type": "code",
   "execution_count": 16,
   "metadata": {},
   "outputs": [],
   "source": [
    "hoje = '2021-01-14 08:24:33'"
   ]
  },
  {
   "cell_type": "code",
   "execution_count": null,
   "metadata": {},
   "outputs": [],
   "source": [
    "# Testando a existência de um arquivo\n",
    "f = open(\"./data/historico_bovespa.db\")"
   ]
  },
  {
   "cell_type": "code",
   "execution_count": null,
   "metadata": {},
   "outputs": [],
   "source": [
    "f.close()"
   ]
  },
  {
   "cell_type": "code",
   "execution_count": null,
   "metadata": {},
   "outputs": [],
   "source": [
    "# Lendo lista de ações a serem importadas\n",
    "iBrA = pd.read_csv(\"./data/IBrA.csv\", delimiter=';')\n",
    "iBrA"
   ]
  },
  {
   "cell_type": "code",
   "execution_count": null,
   "metadata": {},
   "outputs": [],
   "source": [
    "# Alterando nome das colunas para evitar erros por acentuação\n",
    "iBrA.columns = ['Codigo', 'Empresa', 'Tipo', 'Qtd_Teorica', 'Part']"
   ]
  },
  {
   "cell_type": "code",
   "execution_count": null,
   "metadata": {},
   "outputs": [],
   "source": [
    "iBrA.head()"
   ]
  },
  {
   "cell_type": "code",
   "execution_count": null,
   "metadata": {},
   "outputs": [],
   "source": [
    "iBrA.Codigo"
   ]
  },
  {
   "cell_type": "code",
   "execution_count": null,
   "metadata": {},
   "outputs": [],
   "source": [
    "iBrA.loc[:, 'Codigo']"
   ]
  },
  {
   "cell_type": "code",
   "execution_count": null,
   "metadata": {},
   "outputs": [],
   "source": [
    "iBrA.dtypes"
   ]
  },
  {
   "cell_type": "code",
   "execution_count": null,
   "metadata": {},
   "outputs": [],
   "source": [
    "# Extraindo os códigos das ações da lista e acrescentando .SA a todos os símbolos para poder fazer o download\n",
    "acoes = list(iBrA.Codigo)\n",
    "acoes = [i + '.SA' for i in acoes]\n",
    "acoes"
   ]
  },
  {
   "cell_type": "code",
   "execution_count": null,
   "metadata": {},
   "outputs": [],
   "source": [
    "# Download de todoas as ações da lista\n",
    "data = yf.download(acoes)"
   ]
  },
  {
   "cell_type": "code",
   "execution_count": null,
   "metadata": {},
   "outputs": [],
   "source": [
    "type(data.columns)"
   ]
  },
  {
   "cell_type": "code",
   "execution_count": null,
   "metadata": {},
   "outputs": [],
   "source": [
    "data.dtypes"
   ]
  },
  {
   "cell_type": "code",
   "execution_count": null,
   "metadata": {},
   "outputs": [],
   "source": [
    "# Reordenando os níveis de índice nas colunas\n",
    "data.columns = data.columns.reorder_levels([1, 0])"
   ]
  },
  {
   "cell_type": "code",
   "execution_count": null,
   "metadata": {},
   "outputs": [],
   "source": [
    "# Ordenando as colunas em ordem alfabética\n",
    "data.sort_index(axis=1, inplace=True)"
   ]
  },
  {
   "cell_type": "code",
   "execution_count": null,
   "metadata": {},
   "outputs": [],
   "source": [
    "# Salvando em um arquivo .csv\n",
    "data.to_csv('./data/base_bovespa.csv')"
   ]
  },
  {
   "cell_type": "code",
   "execution_count": null,
   "metadata": {},
   "outputs": [],
   "source": [
    "# Slicing do dataframe\n",
    "data.loc[:, 'ABCB4.SA':'BBSA3.SA']"
   ]
  },
  {
   "cell_type": "code",
   "execution_count": null,
   "metadata": {},
   "outputs": [],
   "source": [
    "# Lendo arquivo .csv\n",
    "try:\n",
    "    historico = pd.read_csv('./data/base_bovespa.csv')\n",
    "except FileNotFoundError:\n",
    "    print('Arquivo não encontrado')"
   ]
  },
  {
   "cell_type": "code",
   "execution_count": 29,
   "metadata": {},
   "outputs": [],
   "source": [
    "# Conectando a banco de dados SQL\n",
    "import sqlite3\n",
    "conn = sqlite3.connect(\"./data/historico_bovespa.db\")"
   ]
  },
  {
   "cell_type": "code",
   "execution_count": 35,
   "metadata": {},
   "outputs": [],
   "source": [
    "hist = pd.read_sql_query(\"SELECT * FROM HIST\", conn)"
   ]
  },
  {
   "cell_type": "code",
   "execution_count": 36,
   "metadata": {},
   "outputs": [
    {
     "data": {
      "text/html": [
       "<div>\n",
       "<style scoped>\n",
       "    .dataframe tbody tr th:only-of-type {\n",
       "        vertical-align: middle;\n",
       "    }\n",
       "\n",
       "    .dataframe tbody tr th {\n",
       "        vertical-align: top;\n",
       "    }\n",
       "\n",
       "    .dataframe thead th {\n",
       "        text-align: right;\n",
       "    }\n",
       "</style>\n",
       "<table border=\"1\" class=\"dataframe\">\n",
       "  <thead>\n",
       "    <tr style=\"text-align: right;\">\n",
       "      <th></th>\n",
       "      <th>Date</th>\n",
       "      <th>('AALR3.SA', 'Adj Close')</th>\n",
       "      <th>('AALR3.SA', 'Close')</th>\n",
       "      <th>('AALR3.SA', 'High')</th>\n",
       "      <th>('AALR3.SA', 'Low')</th>\n",
       "      <th>('AALR3.SA', 'Open')</th>\n",
       "      <th>('AALR3.SA', 'Volume')</th>\n",
       "      <th>('ABCB4.SA', 'Adj Close')</th>\n",
       "      <th>('ABCB4.SA', 'Close')</th>\n",
       "      <th>('ABCB4.SA', 'High')</th>\n",
       "      <th>...</th>\n",
       "      <th>('WIZS3.SA', 'High')</th>\n",
       "      <th>('WIZS3.SA', 'Low')</th>\n",
       "      <th>('WIZS3.SA', 'Open')</th>\n",
       "      <th>('WIZS3.SA', 'Volume')</th>\n",
       "      <th>('YDUQ3.SA', 'Adj Close')</th>\n",
       "      <th>('YDUQ3.SA', 'Close')</th>\n",
       "      <th>('YDUQ3.SA', 'High')</th>\n",
       "      <th>('YDUQ3.SA', 'Low')</th>\n",
       "      <th>('YDUQ3.SA', 'Open')</th>\n",
       "      <th>('YDUQ3.SA', 'Volume')</th>\n",
       "    </tr>\n",
       "  </thead>\n",
       "  <tbody>\n",
       "    <tr>\n",
       "      <td>0</td>\n",
       "      <td>2000-01-03 00:00:00</td>\n",
       "      <td>NaN</td>\n",
       "      <td>NaN</td>\n",
       "      <td>NaN</td>\n",
       "      <td>NaN</td>\n",
       "      <td>NaN</td>\n",
       "      <td>NaN</td>\n",
       "      <td>NaN</td>\n",
       "      <td>NaN</td>\n",
       "      <td>NaN</td>\n",
       "      <td>...</td>\n",
       "      <td>NaN</td>\n",
       "      <td>NaN</td>\n",
       "      <td>NaN</td>\n",
       "      <td>NaN</td>\n",
       "      <td>NaN</td>\n",
       "      <td>NaN</td>\n",
       "      <td>NaN</td>\n",
       "      <td>NaN</td>\n",
       "      <td>NaN</td>\n",
       "      <td>NaN</td>\n",
       "    </tr>\n",
       "    <tr>\n",
       "      <td>1</td>\n",
       "      <td>2000-01-04 00:00:00</td>\n",
       "      <td>NaN</td>\n",
       "      <td>NaN</td>\n",
       "      <td>NaN</td>\n",
       "      <td>NaN</td>\n",
       "      <td>NaN</td>\n",
       "      <td>NaN</td>\n",
       "      <td>NaN</td>\n",
       "      <td>NaN</td>\n",
       "      <td>NaN</td>\n",
       "      <td>...</td>\n",
       "      <td>NaN</td>\n",
       "      <td>NaN</td>\n",
       "      <td>NaN</td>\n",
       "      <td>NaN</td>\n",
       "      <td>NaN</td>\n",
       "      <td>NaN</td>\n",
       "      <td>NaN</td>\n",
       "      <td>NaN</td>\n",
       "      <td>NaN</td>\n",
       "      <td>NaN</td>\n",
       "    </tr>\n",
       "    <tr>\n",
       "      <td>2</td>\n",
       "      <td>2000-01-05 00:00:00</td>\n",
       "      <td>NaN</td>\n",
       "      <td>NaN</td>\n",
       "      <td>NaN</td>\n",
       "      <td>NaN</td>\n",
       "      <td>NaN</td>\n",
       "      <td>NaN</td>\n",
       "      <td>NaN</td>\n",
       "      <td>NaN</td>\n",
       "      <td>NaN</td>\n",
       "      <td>...</td>\n",
       "      <td>NaN</td>\n",
       "      <td>NaN</td>\n",
       "      <td>NaN</td>\n",
       "      <td>NaN</td>\n",
       "      <td>NaN</td>\n",
       "      <td>NaN</td>\n",
       "      <td>NaN</td>\n",
       "      <td>NaN</td>\n",
       "      <td>NaN</td>\n",
       "      <td>NaN</td>\n",
       "    </tr>\n",
       "    <tr>\n",
       "      <td>3</td>\n",
       "      <td>2000-01-06 00:00:00</td>\n",
       "      <td>NaN</td>\n",
       "      <td>NaN</td>\n",
       "      <td>NaN</td>\n",
       "      <td>NaN</td>\n",
       "      <td>NaN</td>\n",
       "      <td>NaN</td>\n",
       "      <td>NaN</td>\n",
       "      <td>NaN</td>\n",
       "      <td>NaN</td>\n",
       "      <td>...</td>\n",
       "      <td>NaN</td>\n",
       "      <td>NaN</td>\n",
       "      <td>NaN</td>\n",
       "      <td>NaN</td>\n",
       "      <td>NaN</td>\n",
       "      <td>NaN</td>\n",
       "      <td>NaN</td>\n",
       "      <td>NaN</td>\n",
       "      <td>NaN</td>\n",
       "      <td>NaN</td>\n",
       "    </tr>\n",
       "    <tr>\n",
       "      <td>4</td>\n",
       "      <td>2000-01-07 00:00:00</td>\n",
       "      <td>NaN</td>\n",
       "      <td>NaN</td>\n",
       "      <td>NaN</td>\n",
       "      <td>NaN</td>\n",
       "      <td>NaN</td>\n",
       "      <td>NaN</td>\n",
       "      <td>NaN</td>\n",
       "      <td>NaN</td>\n",
       "      <td>NaN</td>\n",
       "      <td>...</td>\n",
       "      <td>NaN</td>\n",
       "      <td>NaN</td>\n",
       "      <td>NaN</td>\n",
       "      <td>NaN</td>\n",
       "      <td>NaN</td>\n",
       "      <td>NaN</td>\n",
       "      <td>NaN</td>\n",
       "      <td>NaN</td>\n",
       "      <td>NaN</td>\n",
       "      <td>NaN</td>\n",
       "    </tr>\n",
       "    <tr>\n",
       "      <td>...</td>\n",
       "      <td>...</td>\n",
       "      <td>...</td>\n",
       "      <td>...</td>\n",
       "      <td>...</td>\n",
       "      <td>...</td>\n",
       "      <td>...</td>\n",
       "      <td>...</td>\n",
       "      <td>...</td>\n",
       "      <td>...</td>\n",
       "      <td>...</td>\n",
       "      <td>...</td>\n",
       "      <td>...</td>\n",
       "      <td>...</td>\n",
       "      <td>...</td>\n",
       "      <td>...</td>\n",
       "      <td>...</td>\n",
       "      <td>...</td>\n",
       "      <td>...</td>\n",
       "      <td>...</td>\n",
       "      <td>...</td>\n",
       "      <td>...</td>\n",
       "    </tr>\n",
       "    <tr>\n",
       "      <td>5288</td>\n",
       "      <td>2021-01-08 00:00:00</td>\n",
       "      <td>11.03</td>\n",
       "      <td>11.03</td>\n",
       "      <td>11.12</td>\n",
       "      <td>10.23</td>\n",
       "      <td>10.28</td>\n",
       "      <td>489200.0</td>\n",
       "      <td>16.10</td>\n",
       "      <td>16.10</td>\n",
       "      <td>16.490000</td>\n",
       "      <td>...</td>\n",
       "      <td>8.00</td>\n",
       "      <td>7.77</td>\n",
       "      <td>7.78</td>\n",
       "      <td>722300.0</td>\n",
       "      <td>33.930000</td>\n",
       "      <td>33.930000</td>\n",
       "      <td>33.98</td>\n",
       "      <td>33.000000</td>\n",
       "      <td>33.290001</td>\n",
       "      <td>1625800.0</td>\n",
       "    </tr>\n",
       "    <tr>\n",
       "      <td>5289</td>\n",
       "      <td>2021-01-11 00:00:00</td>\n",
       "      <td>11.14</td>\n",
       "      <td>11.14</td>\n",
       "      <td>11.23</td>\n",
       "      <td>10.80</td>\n",
       "      <td>11.09</td>\n",
       "      <td>444800.0</td>\n",
       "      <td>15.87</td>\n",
       "      <td>15.87</td>\n",
       "      <td>16.200001</td>\n",
       "      <td>...</td>\n",
       "      <td>7.96</td>\n",
       "      <td>7.62</td>\n",
       "      <td>7.94</td>\n",
       "      <td>1708400.0</td>\n",
       "      <td>32.590000</td>\n",
       "      <td>32.590000</td>\n",
       "      <td>34.68</td>\n",
       "      <td>32.330002</td>\n",
       "      <td>34.669998</td>\n",
       "      <td>4600200.0</td>\n",
       "    </tr>\n",
       "    <tr>\n",
       "      <td>5290</td>\n",
       "      <td>2021-01-12 00:00:00</td>\n",
       "      <td>11.08</td>\n",
       "      <td>11.08</td>\n",
       "      <td>11.18</td>\n",
       "      <td>10.92</td>\n",
       "      <td>11.14</td>\n",
       "      <td>241600.0</td>\n",
       "      <td>16.25</td>\n",
       "      <td>16.25</td>\n",
       "      <td>16.379999</td>\n",
       "      <td>...</td>\n",
       "      <td>7.77</td>\n",
       "      <td>7.63</td>\n",
       "      <td>7.66</td>\n",
       "      <td>1253500.0</td>\n",
       "      <td>34.099998</td>\n",
       "      <td>34.099998</td>\n",
       "      <td>34.18</td>\n",
       "      <td>31.740000</td>\n",
       "      <td>32.119999</td>\n",
       "      <td>6139300.0</td>\n",
       "    </tr>\n",
       "    <tr>\n",
       "      <td>5291</td>\n",
       "      <td>2021-01-13 00:00:00</td>\n",
       "      <td>10.97</td>\n",
       "      <td>10.97</td>\n",
       "      <td>11.21</td>\n",
       "      <td>10.89</td>\n",
       "      <td>11.12</td>\n",
       "      <td>188700.0</td>\n",
       "      <td>16.24</td>\n",
       "      <td>16.24</td>\n",
       "      <td>16.610001</td>\n",
       "      <td>...</td>\n",
       "      <td>7.87</td>\n",
       "      <td>7.63</td>\n",
       "      <td>7.75</td>\n",
       "      <td>1046700.0</td>\n",
       "      <td>33.820000</td>\n",
       "      <td>33.820000</td>\n",
       "      <td>34.59</td>\n",
       "      <td>33.110001</td>\n",
       "      <td>34.040001</td>\n",
       "      <td>2275700.0</td>\n",
       "    </tr>\n",
       "    <tr>\n",
       "      <td>5292</td>\n",
       "      <td>2021-01-14 00:00:00</td>\n",
       "      <td>NaN</td>\n",
       "      <td>NaN</td>\n",
       "      <td>NaN</td>\n",
       "      <td>NaN</td>\n",
       "      <td>NaN</td>\n",
       "      <td>NaN</td>\n",
       "      <td>NaN</td>\n",
       "      <td>NaN</td>\n",
       "      <td>NaN</td>\n",
       "      <td>...</td>\n",
       "      <td>NaN</td>\n",
       "      <td>NaN</td>\n",
       "      <td>NaN</td>\n",
       "      <td>NaN</td>\n",
       "      <td>NaN</td>\n",
       "      <td>NaN</td>\n",
       "      <td>NaN</td>\n",
       "      <td>NaN</td>\n",
       "      <td>NaN</td>\n",
       "      <td>NaN</td>\n",
       "    </tr>\n",
       "  </tbody>\n",
       "</table>\n",
       "<p>5293 rows × 985 columns</p>\n",
       "</div>"
      ],
      "text/plain": [
       "                     Date  ('AALR3.SA', 'Adj Close')  ('AALR3.SA', 'Close')  \\\n",
       "0     2000-01-03 00:00:00                        NaN                    NaN   \n",
       "1     2000-01-04 00:00:00                        NaN                    NaN   \n",
       "2     2000-01-05 00:00:00                        NaN                    NaN   \n",
       "3     2000-01-06 00:00:00                        NaN                    NaN   \n",
       "4     2000-01-07 00:00:00                        NaN                    NaN   \n",
       "...                   ...                        ...                    ...   \n",
       "5288  2021-01-08 00:00:00                      11.03                  11.03   \n",
       "5289  2021-01-11 00:00:00                      11.14                  11.14   \n",
       "5290  2021-01-12 00:00:00                      11.08                  11.08   \n",
       "5291  2021-01-13 00:00:00                      10.97                  10.97   \n",
       "5292  2021-01-14 00:00:00                        NaN                    NaN   \n",
       "\n",
       "      ('AALR3.SA', 'High')  ('AALR3.SA', 'Low')  ('AALR3.SA', 'Open')  \\\n",
       "0                      NaN                  NaN                   NaN   \n",
       "1                      NaN                  NaN                   NaN   \n",
       "2                      NaN                  NaN                   NaN   \n",
       "3                      NaN                  NaN                   NaN   \n",
       "4                      NaN                  NaN                   NaN   \n",
       "...                    ...                  ...                   ...   \n",
       "5288                 11.12                10.23                 10.28   \n",
       "5289                 11.23                10.80                 11.09   \n",
       "5290                 11.18                10.92                 11.14   \n",
       "5291                 11.21                10.89                 11.12   \n",
       "5292                   NaN                  NaN                   NaN   \n",
       "\n",
       "      ('AALR3.SA', 'Volume')  ('ABCB4.SA', 'Adj Close')  \\\n",
       "0                        NaN                        NaN   \n",
       "1                        NaN                        NaN   \n",
       "2                        NaN                        NaN   \n",
       "3                        NaN                        NaN   \n",
       "4                        NaN                        NaN   \n",
       "...                      ...                        ...   \n",
       "5288                489200.0                      16.10   \n",
       "5289                444800.0                      15.87   \n",
       "5290                241600.0                      16.25   \n",
       "5291                188700.0                      16.24   \n",
       "5292                     NaN                        NaN   \n",
       "\n",
       "      ('ABCB4.SA', 'Close')  ('ABCB4.SA', 'High')  ...  ('WIZS3.SA', 'High')  \\\n",
       "0                       NaN                   NaN  ...                   NaN   \n",
       "1                       NaN                   NaN  ...                   NaN   \n",
       "2                       NaN                   NaN  ...                   NaN   \n",
       "3                       NaN                   NaN  ...                   NaN   \n",
       "4                       NaN                   NaN  ...                   NaN   \n",
       "...                     ...                   ...  ...                   ...   \n",
       "5288                  16.10             16.490000  ...                  8.00   \n",
       "5289                  15.87             16.200001  ...                  7.96   \n",
       "5290                  16.25             16.379999  ...                  7.77   \n",
       "5291                  16.24             16.610001  ...                  7.87   \n",
       "5292                    NaN                   NaN  ...                   NaN   \n",
       "\n",
       "      ('WIZS3.SA', 'Low')  ('WIZS3.SA', 'Open')  ('WIZS3.SA', 'Volume')  \\\n",
       "0                     NaN                   NaN                     NaN   \n",
       "1                     NaN                   NaN                     NaN   \n",
       "2                     NaN                   NaN                     NaN   \n",
       "3                     NaN                   NaN                     NaN   \n",
       "4                     NaN                   NaN                     NaN   \n",
       "...                   ...                   ...                     ...   \n",
       "5288                 7.77                  7.78                722300.0   \n",
       "5289                 7.62                  7.94               1708400.0   \n",
       "5290                 7.63                  7.66               1253500.0   \n",
       "5291                 7.63                  7.75               1046700.0   \n",
       "5292                  NaN                   NaN                     NaN   \n",
       "\n",
       "      ('YDUQ3.SA', 'Adj Close')  ('YDUQ3.SA', 'Close')  ('YDUQ3.SA', 'High')  \\\n",
       "0                           NaN                    NaN                   NaN   \n",
       "1                           NaN                    NaN                   NaN   \n",
       "2                           NaN                    NaN                   NaN   \n",
       "3                           NaN                    NaN                   NaN   \n",
       "4                           NaN                    NaN                   NaN   \n",
       "...                         ...                    ...                   ...   \n",
       "5288                  33.930000              33.930000                 33.98   \n",
       "5289                  32.590000              32.590000                 34.68   \n",
       "5290                  34.099998              34.099998                 34.18   \n",
       "5291                  33.820000              33.820000                 34.59   \n",
       "5292                        NaN                    NaN                   NaN   \n",
       "\n",
       "      ('YDUQ3.SA', 'Low')  ('YDUQ3.SA', 'Open')  ('YDUQ3.SA', 'Volume')  \n",
       "0                     NaN                   NaN                     NaN  \n",
       "1                     NaN                   NaN                     NaN  \n",
       "2                     NaN                   NaN                     NaN  \n",
       "3                     NaN                   NaN                     NaN  \n",
       "4                     NaN                   NaN                     NaN  \n",
       "...                   ...                   ...                     ...  \n",
       "5288            33.000000             33.290001               1625800.0  \n",
       "5289            32.330002             34.669998               4600200.0  \n",
       "5290            31.740000             32.119999               6139300.0  \n",
       "5291            33.110001             34.040001               2275700.0  \n",
       "5292                  NaN                   NaN                     NaN  \n",
       "\n",
       "[5293 rows x 985 columns]"
      ]
     },
     "execution_count": 36,
     "metadata": {},
     "output_type": "execute_result"
    }
   ],
   "source": [
    "hist"
   ]
  },
  {
   "cell_type": "code",
   "execution_count": 37,
   "metadata": {},
   "outputs": [
    {
     "data": {
      "text/html": [
       "<div>\n",
       "<style scoped>\n",
       "    .dataframe tbody tr th:only-of-type {\n",
       "        vertical-align: middle;\n",
       "    }\n",
       "\n",
       "    .dataframe tbody tr th {\n",
       "        vertical-align: top;\n",
       "    }\n",
       "\n",
       "    .dataframe thead tr th {\n",
       "        text-align: left;\n",
       "    }\n",
       "\n",
       "    .dataframe thead tr:last-of-type th {\n",
       "        text-align: right;\n",
       "    }\n",
       "</style>\n",
       "<table border=\"1\" class=\"dataframe\">\n",
       "  <thead>\n",
       "    <tr>\n",
       "      <th></th>\n",
       "      <th colspan=\"6\" halign=\"left\">AALR3.SA</th>\n",
       "      <th colspan=\"4\" halign=\"left\">ABCB4.SA</th>\n",
       "      <th>...</th>\n",
       "      <th colspan=\"4\" halign=\"left\">WIZS3.SA</th>\n",
       "      <th colspan=\"6\" halign=\"left\">YDUQ3.SA</th>\n",
       "    </tr>\n",
       "    <tr>\n",
       "      <th></th>\n",
       "      <th>Adj Close</th>\n",
       "      <th>Close</th>\n",
       "      <th>High</th>\n",
       "      <th>Low</th>\n",
       "      <th>Open</th>\n",
       "      <th>Volume</th>\n",
       "      <th>Adj Close</th>\n",
       "      <th>Close</th>\n",
       "      <th>High</th>\n",
       "      <th>Low</th>\n",
       "      <th>...</th>\n",
       "      <th>High</th>\n",
       "      <th>Low</th>\n",
       "      <th>Open</th>\n",
       "      <th>Volume</th>\n",
       "      <th>Adj Close</th>\n",
       "      <th>Close</th>\n",
       "      <th>High</th>\n",
       "      <th>Low</th>\n",
       "      <th>Open</th>\n",
       "      <th>Volume</th>\n",
       "    </tr>\n",
       "    <tr>\n",
       "      <th>Date</th>\n",
       "      <th></th>\n",
       "      <th></th>\n",
       "      <th></th>\n",
       "      <th></th>\n",
       "      <th></th>\n",
       "      <th></th>\n",
       "      <th></th>\n",
       "      <th></th>\n",
       "      <th></th>\n",
       "      <th></th>\n",
       "      <th></th>\n",
       "      <th></th>\n",
       "      <th></th>\n",
       "      <th></th>\n",
       "      <th></th>\n",
       "      <th></th>\n",
       "      <th></th>\n",
       "      <th></th>\n",
       "      <th></th>\n",
       "      <th></th>\n",
       "      <th></th>\n",
       "    </tr>\n",
       "  </thead>\n",
       "  <tbody>\n",
       "    <tr>\n",
       "      <td>2000-01-03</td>\n",
       "      <td>NaN</td>\n",
       "      <td>NaN</td>\n",
       "      <td>NaN</td>\n",
       "      <td>NaN</td>\n",
       "      <td>NaN</td>\n",
       "      <td>NaN</td>\n",
       "      <td>NaN</td>\n",
       "      <td>NaN</td>\n",
       "      <td>NaN</td>\n",
       "      <td>NaN</td>\n",
       "      <td>...</td>\n",
       "      <td>NaN</td>\n",
       "      <td>NaN</td>\n",
       "      <td>NaN</td>\n",
       "      <td>NaN</td>\n",
       "      <td>NaN</td>\n",
       "      <td>NaN</td>\n",
       "      <td>NaN</td>\n",
       "      <td>NaN</td>\n",
       "      <td>NaN</td>\n",
       "      <td>NaN</td>\n",
       "    </tr>\n",
       "    <tr>\n",
       "      <td>2000-01-04</td>\n",
       "      <td>NaN</td>\n",
       "      <td>NaN</td>\n",
       "      <td>NaN</td>\n",
       "      <td>NaN</td>\n",
       "      <td>NaN</td>\n",
       "      <td>NaN</td>\n",
       "      <td>NaN</td>\n",
       "      <td>NaN</td>\n",
       "      <td>NaN</td>\n",
       "      <td>NaN</td>\n",
       "      <td>...</td>\n",
       "      <td>NaN</td>\n",
       "      <td>NaN</td>\n",
       "      <td>NaN</td>\n",
       "      <td>NaN</td>\n",
       "      <td>NaN</td>\n",
       "      <td>NaN</td>\n",
       "      <td>NaN</td>\n",
       "      <td>NaN</td>\n",
       "      <td>NaN</td>\n",
       "      <td>NaN</td>\n",
       "    </tr>\n",
       "    <tr>\n",
       "      <td>2000-01-05</td>\n",
       "      <td>NaN</td>\n",
       "      <td>NaN</td>\n",
       "      <td>NaN</td>\n",
       "      <td>NaN</td>\n",
       "      <td>NaN</td>\n",
       "      <td>NaN</td>\n",
       "      <td>NaN</td>\n",
       "      <td>NaN</td>\n",
       "      <td>NaN</td>\n",
       "      <td>NaN</td>\n",
       "      <td>...</td>\n",
       "      <td>NaN</td>\n",
       "      <td>NaN</td>\n",
       "      <td>NaN</td>\n",
       "      <td>NaN</td>\n",
       "      <td>NaN</td>\n",
       "      <td>NaN</td>\n",
       "      <td>NaN</td>\n",
       "      <td>NaN</td>\n",
       "      <td>NaN</td>\n",
       "      <td>NaN</td>\n",
       "    </tr>\n",
       "    <tr>\n",
       "      <td>2000-01-06</td>\n",
       "      <td>NaN</td>\n",
       "      <td>NaN</td>\n",
       "      <td>NaN</td>\n",
       "      <td>NaN</td>\n",
       "      <td>NaN</td>\n",
       "      <td>NaN</td>\n",
       "      <td>NaN</td>\n",
       "      <td>NaN</td>\n",
       "      <td>NaN</td>\n",
       "      <td>NaN</td>\n",
       "      <td>...</td>\n",
       "      <td>NaN</td>\n",
       "      <td>NaN</td>\n",
       "      <td>NaN</td>\n",
       "      <td>NaN</td>\n",
       "      <td>NaN</td>\n",
       "      <td>NaN</td>\n",
       "      <td>NaN</td>\n",
       "      <td>NaN</td>\n",
       "      <td>NaN</td>\n",
       "      <td>NaN</td>\n",
       "    </tr>\n",
       "    <tr>\n",
       "      <td>2000-01-07</td>\n",
       "      <td>NaN</td>\n",
       "      <td>NaN</td>\n",
       "      <td>NaN</td>\n",
       "      <td>NaN</td>\n",
       "      <td>NaN</td>\n",
       "      <td>NaN</td>\n",
       "      <td>NaN</td>\n",
       "      <td>NaN</td>\n",
       "      <td>NaN</td>\n",
       "      <td>NaN</td>\n",
       "      <td>...</td>\n",
       "      <td>NaN</td>\n",
       "      <td>NaN</td>\n",
       "      <td>NaN</td>\n",
       "      <td>NaN</td>\n",
       "      <td>NaN</td>\n",
       "      <td>NaN</td>\n",
       "      <td>NaN</td>\n",
       "      <td>NaN</td>\n",
       "      <td>NaN</td>\n",
       "      <td>NaN</td>\n",
       "    </tr>\n",
       "    <tr>\n",
       "      <td>...</td>\n",
       "      <td>...</td>\n",
       "      <td>...</td>\n",
       "      <td>...</td>\n",
       "      <td>...</td>\n",
       "      <td>...</td>\n",
       "      <td>...</td>\n",
       "      <td>...</td>\n",
       "      <td>...</td>\n",
       "      <td>...</td>\n",
       "      <td>...</td>\n",
       "      <td>...</td>\n",
       "      <td>...</td>\n",
       "      <td>...</td>\n",
       "      <td>...</td>\n",
       "      <td>...</td>\n",
       "      <td>...</td>\n",
       "      <td>...</td>\n",
       "      <td>...</td>\n",
       "      <td>...</td>\n",
       "      <td>...</td>\n",
       "      <td>...</td>\n",
       "    </tr>\n",
       "    <tr>\n",
       "      <td>2021-01-08</td>\n",
       "      <td>11.03</td>\n",
       "      <td>11.03</td>\n",
       "      <td>11.12</td>\n",
       "      <td>10.23</td>\n",
       "      <td>10.28</td>\n",
       "      <td>489200.0</td>\n",
       "      <td>16.10</td>\n",
       "      <td>16.10</td>\n",
       "      <td>16.490000</td>\n",
       "      <td>15.970000</td>\n",
       "      <td>...</td>\n",
       "      <td>8.00</td>\n",
       "      <td>7.77</td>\n",
       "      <td>7.78</td>\n",
       "      <td>722300.0</td>\n",
       "      <td>33.930000</td>\n",
       "      <td>33.930000</td>\n",
       "      <td>33.98</td>\n",
       "      <td>33.000000</td>\n",
       "      <td>33.290001</td>\n",
       "      <td>1625800.0</td>\n",
       "    </tr>\n",
       "    <tr>\n",
       "      <td>2021-01-11</td>\n",
       "      <td>11.14</td>\n",
       "      <td>11.14</td>\n",
       "      <td>11.23</td>\n",
       "      <td>10.80</td>\n",
       "      <td>11.09</td>\n",
       "      <td>444800.0</td>\n",
       "      <td>15.87</td>\n",
       "      <td>15.87</td>\n",
       "      <td>16.200001</td>\n",
       "      <td>15.730000</td>\n",
       "      <td>...</td>\n",
       "      <td>7.96</td>\n",
       "      <td>7.62</td>\n",
       "      <td>7.94</td>\n",
       "      <td>1708400.0</td>\n",
       "      <td>32.590000</td>\n",
       "      <td>32.590000</td>\n",
       "      <td>34.68</td>\n",
       "      <td>32.330002</td>\n",
       "      <td>34.669998</td>\n",
       "      <td>4600200.0</td>\n",
       "    </tr>\n",
       "    <tr>\n",
       "      <td>2021-01-12</td>\n",
       "      <td>11.08</td>\n",
       "      <td>11.08</td>\n",
       "      <td>11.18</td>\n",
       "      <td>10.92</td>\n",
       "      <td>11.14</td>\n",
       "      <td>241600.0</td>\n",
       "      <td>16.25</td>\n",
       "      <td>16.25</td>\n",
       "      <td>16.379999</td>\n",
       "      <td>15.810000</td>\n",
       "      <td>...</td>\n",
       "      <td>7.77</td>\n",
       "      <td>7.63</td>\n",
       "      <td>7.66</td>\n",
       "      <td>1253500.0</td>\n",
       "      <td>34.099998</td>\n",
       "      <td>34.099998</td>\n",
       "      <td>34.18</td>\n",
       "      <td>31.740000</td>\n",
       "      <td>32.119999</td>\n",
       "      <td>6139300.0</td>\n",
       "    </tr>\n",
       "    <tr>\n",
       "      <td>2021-01-13</td>\n",
       "      <td>10.97</td>\n",
       "      <td>10.97</td>\n",
       "      <td>11.21</td>\n",
       "      <td>10.89</td>\n",
       "      <td>11.12</td>\n",
       "      <td>188700.0</td>\n",
       "      <td>16.24</td>\n",
       "      <td>16.24</td>\n",
       "      <td>16.610001</td>\n",
       "      <td>16.110001</td>\n",
       "      <td>...</td>\n",
       "      <td>7.87</td>\n",
       "      <td>7.63</td>\n",
       "      <td>7.75</td>\n",
       "      <td>1046700.0</td>\n",
       "      <td>33.820000</td>\n",
       "      <td>33.820000</td>\n",
       "      <td>34.59</td>\n",
       "      <td>33.110001</td>\n",
       "      <td>34.040001</td>\n",
       "      <td>2275700.0</td>\n",
       "    </tr>\n",
       "    <tr>\n",
       "      <td>2021-01-14</td>\n",
       "      <td>NaN</td>\n",
       "      <td>NaN</td>\n",
       "      <td>NaN</td>\n",
       "      <td>NaN</td>\n",
       "      <td>NaN</td>\n",
       "      <td>NaN</td>\n",
       "      <td>NaN</td>\n",
       "      <td>NaN</td>\n",
       "      <td>NaN</td>\n",
       "      <td>NaN</td>\n",
       "      <td>...</td>\n",
       "      <td>NaN</td>\n",
       "      <td>NaN</td>\n",
       "      <td>NaN</td>\n",
       "      <td>NaN</td>\n",
       "      <td>NaN</td>\n",
       "      <td>NaN</td>\n",
       "      <td>NaN</td>\n",
       "      <td>NaN</td>\n",
       "      <td>NaN</td>\n",
       "      <td>NaN</td>\n",
       "    </tr>\n",
       "  </tbody>\n",
       "</table>\n",
       "<p>5293 rows × 984 columns</p>\n",
       "</div>"
      ],
      "text/plain": [
       "            AALR3.SA                                        ABCB4.SA         \\\n",
       "           Adj Close  Close   High    Low   Open    Volume Adj Close  Close   \n",
       "Date                                                                          \n",
       "2000-01-03       NaN    NaN    NaN    NaN    NaN       NaN       NaN    NaN   \n",
       "2000-01-04       NaN    NaN    NaN    NaN    NaN       NaN       NaN    NaN   \n",
       "2000-01-05       NaN    NaN    NaN    NaN    NaN       NaN       NaN    NaN   \n",
       "2000-01-06       NaN    NaN    NaN    NaN    NaN       NaN       NaN    NaN   \n",
       "2000-01-07       NaN    NaN    NaN    NaN    NaN       NaN       NaN    NaN   \n",
       "...              ...    ...    ...    ...    ...       ...       ...    ...   \n",
       "2021-01-08     11.03  11.03  11.12  10.23  10.28  489200.0     16.10  16.10   \n",
       "2021-01-11     11.14  11.14  11.23  10.80  11.09  444800.0     15.87  15.87   \n",
       "2021-01-12     11.08  11.08  11.18  10.92  11.14  241600.0     16.25  16.25   \n",
       "2021-01-13     10.97  10.97  11.21  10.89  11.12  188700.0     16.24  16.24   \n",
       "2021-01-14       NaN    NaN    NaN    NaN    NaN       NaN       NaN    NaN   \n",
       "\n",
       "                                  ... WIZS3.SA                         \\\n",
       "                 High        Low  ...     High   Low  Open     Volume   \n",
       "Date                              ...                                   \n",
       "2000-01-03        NaN        NaN  ...      NaN   NaN   NaN        NaN   \n",
       "2000-01-04        NaN        NaN  ...      NaN   NaN   NaN        NaN   \n",
       "2000-01-05        NaN        NaN  ...      NaN   NaN   NaN        NaN   \n",
       "2000-01-06        NaN        NaN  ...      NaN   NaN   NaN        NaN   \n",
       "2000-01-07        NaN        NaN  ...      NaN   NaN   NaN        NaN   \n",
       "...               ...        ...  ...      ...   ...   ...        ...   \n",
       "2021-01-08  16.490000  15.970000  ...     8.00  7.77  7.78   722300.0   \n",
       "2021-01-11  16.200001  15.730000  ...     7.96  7.62  7.94  1708400.0   \n",
       "2021-01-12  16.379999  15.810000  ...     7.77  7.63  7.66  1253500.0   \n",
       "2021-01-13  16.610001  16.110001  ...     7.87  7.63  7.75  1046700.0   \n",
       "2021-01-14        NaN        NaN  ...      NaN   NaN   NaN        NaN   \n",
       "\n",
       "             YDUQ3.SA                                                     \n",
       "            Adj Close      Close   High        Low       Open     Volume  \n",
       "Date                                                                      \n",
       "2000-01-03        NaN        NaN    NaN        NaN        NaN        NaN  \n",
       "2000-01-04        NaN        NaN    NaN        NaN        NaN        NaN  \n",
       "2000-01-05        NaN        NaN    NaN        NaN        NaN        NaN  \n",
       "2000-01-06        NaN        NaN    NaN        NaN        NaN        NaN  \n",
       "2000-01-07        NaN        NaN    NaN        NaN        NaN        NaN  \n",
       "...               ...        ...    ...        ...        ...        ...  \n",
       "2021-01-08  33.930000  33.930000  33.98  33.000000  33.290001  1625800.0  \n",
       "2021-01-11  32.590000  32.590000  34.68  32.330002  34.669998  4600200.0  \n",
       "2021-01-12  34.099998  34.099998  34.18  31.740000  32.119999  6139300.0  \n",
       "2021-01-13  33.820000  33.820000  34.59  33.110001  34.040001  2275700.0  \n",
       "2021-01-14        NaN        NaN    NaN        NaN        NaN        NaN  \n",
       "\n",
       "[5293 rows x 984 columns]"
      ]
     },
     "execution_count": 37,
     "metadata": {},
     "output_type": "execute_result"
    }
   ],
   "source": [
    "from ast import literal_eval\n",
    "# Reconstruindo índices\n",
    "# Reconstrói o dataset com Date como index, e colunas multi-index com tuplas\n",
    "hist.set_index('Date', drop=True, inplace=True)\n",
    "hist.index = pd.to_datetime(hist.index)\n",
    "hist.columns = list(map(literal_eval, hist.columns))\n",
    "hist.columns = pd.MultiIndex.from_tuples(hist.columns)\n",
    "hist"
   ]
  },
  {
   "cell_type": "code",
   "execution_count": 39,
   "metadata": {},
   "outputs": [
    {
     "data": {
      "text/html": [
       "<div>\n",
       "<style scoped>\n",
       "    .dataframe tbody tr th:only-of-type {\n",
       "        vertical-align: middle;\n",
       "    }\n",
       "\n",
       "    .dataframe tbody tr th {\n",
       "        vertical-align: top;\n",
       "    }\n",
       "\n",
       "    .dataframe thead th {\n",
       "        text-align: right;\n",
       "    }\n",
       "</style>\n",
       "<table border=\"1\" class=\"dataframe\">\n",
       "  <thead>\n",
       "    <tr style=\"text-align: right;\">\n",
       "      <th></th>\n",
       "      <th>Adj Close</th>\n",
       "      <th>Close</th>\n",
       "      <th>High</th>\n",
       "      <th>Low</th>\n",
       "      <th>Open</th>\n",
       "      <th>Volume</th>\n",
       "    </tr>\n",
       "    <tr>\n",
       "      <th>Date</th>\n",
       "      <th></th>\n",
       "      <th></th>\n",
       "      <th></th>\n",
       "      <th></th>\n",
       "      <th></th>\n",
       "      <th></th>\n",
       "    </tr>\n",
       "  </thead>\n",
       "  <tbody>\n",
       "    <tr>\n",
       "      <td>2000-01-03</td>\n",
       "      <td>NaN</td>\n",
       "      <td>NaN</td>\n",
       "      <td>NaN</td>\n",
       "      <td>NaN</td>\n",
       "      <td>NaN</td>\n",
       "      <td>NaN</td>\n",
       "    </tr>\n",
       "    <tr>\n",
       "      <td>2000-01-04</td>\n",
       "      <td>NaN</td>\n",
       "      <td>NaN</td>\n",
       "      <td>NaN</td>\n",
       "      <td>NaN</td>\n",
       "      <td>NaN</td>\n",
       "      <td>NaN</td>\n",
       "    </tr>\n",
       "    <tr>\n",
       "      <td>2000-01-05</td>\n",
       "      <td>NaN</td>\n",
       "      <td>NaN</td>\n",
       "      <td>NaN</td>\n",
       "      <td>NaN</td>\n",
       "      <td>NaN</td>\n",
       "      <td>NaN</td>\n",
       "    </tr>\n",
       "    <tr>\n",
       "      <td>2000-01-06</td>\n",
       "      <td>NaN</td>\n",
       "      <td>NaN</td>\n",
       "      <td>NaN</td>\n",
       "      <td>NaN</td>\n",
       "      <td>NaN</td>\n",
       "      <td>NaN</td>\n",
       "    </tr>\n",
       "    <tr>\n",
       "      <td>2000-01-07</td>\n",
       "      <td>NaN</td>\n",
       "      <td>NaN</td>\n",
       "      <td>NaN</td>\n",
       "      <td>NaN</td>\n",
       "      <td>NaN</td>\n",
       "      <td>NaN</td>\n",
       "    </tr>\n",
       "    <tr>\n",
       "      <td>...</td>\n",
       "      <td>...</td>\n",
       "      <td>...</td>\n",
       "      <td>...</td>\n",
       "      <td>...</td>\n",
       "      <td>...</td>\n",
       "      <td>...</td>\n",
       "    </tr>\n",
       "    <tr>\n",
       "      <td>2021-01-08</td>\n",
       "      <td>16.10</td>\n",
       "      <td>16.10</td>\n",
       "      <td>16.490000</td>\n",
       "      <td>15.970000</td>\n",
       "      <td>16.270000</td>\n",
       "      <td>1139900.0</td>\n",
       "    </tr>\n",
       "    <tr>\n",
       "      <td>2021-01-11</td>\n",
       "      <td>15.87</td>\n",
       "      <td>15.87</td>\n",
       "      <td>16.200001</td>\n",
       "      <td>15.730000</td>\n",
       "      <td>16.200001</td>\n",
       "      <td>1169500.0</td>\n",
       "    </tr>\n",
       "    <tr>\n",
       "      <td>2021-01-12</td>\n",
       "      <td>16.25</td>\n",
       "      <td>16.25</td>\n",
       "      <td>16.379999</td>\n",
       "      <td>15.810000</td>\n",
       "      <td>15.840000</td>\n",
       "      <td>807000.0</td>\n",
       "    </tr>\n",
       "    <tr>\n",
       "      <td>2021-01-13</td>\n",
       "      <td>16.24</td>\n",
       "      <td>16.24</td>\n",
       "      <td>16.610001</td>\n",
       "      <td>16.110001</td>\n",
       "      <td>16.379999</td>\n",
       "      <td>736600.0</td>\n",
       "    </tr>\n",
       "    <tr>\n",
       "      <td>2021-01-14</td>\n",
       "      <td>NaN</td>\n",
       "      <td>NaN</td>\n",
       "      <td>NaN</td>\n",
       "      <td>NaN</td>\n",
       "      <td>NaN</td>\n",
       "      <td>NaN</td>\n",
       "    </tr>\n",
       "  </tbody>\n",
       "</table>\n",
       "<p>5293 rows × 6 columns</p>\n",
       "</div>"
      ],
      "text/plain": [
       "            Adj Close  Close       High        Low       Open     Volume\n",
       "Date                                                                    \n",
       "2000-01-03        NaN    NaN        NaN        NaN        NaN        NaN\n",
       "2000-01-04        NaN    NaN        NaN        NaN        NaN        NaN\n",
       "2000-01-05        NaN    NaN        NaN        NaN        NaN        NaN\n",
       "2000-01-06        NaN    NaN        NaN        NaN        NaN        NaN\n",
       "2000-01-07        NaN    NaN        NaN        NaN        NaN        NaN\n",
       "...               ...    ...        ...        ...        ...        ...\n",
       "2021-01-08      16.10  16.10  16.490000  15.970000  16.270000  1139900.0\n",
       "2021-01-11      15.87  15.87  16.200001  15.730000  16.200001  1169500.0\n",
       "2021-01-12      16.25  16.25  16.379999  15.810000  15.840000   807000.0\n",
       "2021-01-13      16.24  16.24  16.610001  16.110001  16.379999   736600.0\n",
       "2021-01-14        NaN    NaN        NaN        NaN        NaN        NaN\n",
       "\n",
       "[5293 rows x 6 columns]"
      ]
     },
     "execution_count": 39,
     "metadata": {},
     "output_type": "execute_result"
    }
   ],
   "source": [
    "df = hist['ABCB4.SA']\n",
    "df"
   ]
  },
  {
   "cell_type": "code",
   "execution_count": 40,
   "metadata": {},
   "outputs": [
    {
     "data": {
      "text/plain": [
       "DatetimeIndex(['2000-01-03', '2000-01-04', '2000-01-05', '2000-01-06',\n",
       "               '2000-01-07', '2000-01-10', '2000-01-11', '2000-01-12',\n",
       "               '2000-01-13', '2000-01-14',\n",
       "               ...\n",
       "               '2020-12-30', '2021-01-04', '2021-01-05', '2021-01-06',\n",
       "               '2021-01-07', '2021-01-08', '2021-01-11', '2021-01-12',\n",
       "               '2021-01-13', '2021-01-14'],\n",
       "              dtype='datetime64[ns]', name='Date', length=5293, freq=None)"
      ]
     },
     "execution_count": 40,
     "metadata": {},
     "output_type": "execute_result"
    }
   ],
   "source": [
    "df.index"
   ]
  },
  {
   "cell_type": "code",
   "execution_count": 45,
   "metadata": {},
   "outputs": [
    {
     "data": {
      "text/html": [
       "<div>\n",
       "<style scoped>\n",
       "    .dataframe tbody tr th:only-of-type {\n",
       "        vertical-align: middle;\n",
       "    }\n",
       "\n",
       "    .dataframe tbody tr th {\n",
       "        vertical-align: top;\n",
       "    }\n",
       "\n",
       "    .dataframe thead th {\n",
       "        text-align: right;\n",
       "    }\n",
       "</style>\n",
       "<table border=\"1\" class=\"dataframe\">\n",
       "  <thead>\n",
       "    <tr style=\"text-align: right;\">\n",
       "      <th></th>\n",
       "      <th>Adj Close</th>\n",
       "      <th>Close</th>\n",
       "      <th>High</th>\n",
       "      <th>Low</th>\n",
       "      <th>Open</th>\n",
       "      <th>Volume</th>\n",
       "    </tr>\n",
       "    <tr>\n",
       "      <th>Date</th>\n",
       "      <th></th>\n",
       "      <th></th>\n",
       "      <th></th>\n",
       "      <th></th>\n",
       "      <th></th>\n",
       "      <th></th>\n",
       "    </tr>\n",
       "  </thead>\n",
       "  <tbody>\n",
       "    <tr>\n",
       "      <td>2020-01-14</td>\n",
       "      <td>19.735495</td>\n",
       "      <td>20.389999</td>\n",
       "      <td>20.590000</td>\n",
       "      <td>20.219999</td>\n",
       "      <td>20.590000</td>\n",
       "      <td>773500.0</td>\n",
       "    </tr>\n",
       "    <tr>\n",
       "      <td>2020-01-15</td>\n",
       "      <td>19.445126</td>\n",
       "      <td>20.090000</td>\n",
       "      <td>20.360001</td>\n",
       "      <td>20.090000</td>\n",
       "      <td>20.320000</td>\n",
       "      <td>856600.0</td>\n",
       "    </tr>\n",
       "    <tr>\n",
       "      <td>2020-01-16</td>\n",
       "      <td>19.599987</td>\n",
       "      <td>20.250000</td>\n",
       "      <td>20.440001</td>\n",
       "      <td>20.010000</td>\n",
       "      <td>20.299999</td>\n",
       "      <td>1446200.0</td>\n",
       "    </tr>\n",
       "    <tr>\n",
       "      <td>2020-01-17</td>\n",
       "      <td>20.867937</td>\n",
       "      <td>21.559999</td>\n",
       "      <td>21.700001</td>\n",
       "      <td>20.299999</td>\n",
       "      <td>20.309999</td>\n",
       "      <td>2520700.0</td>\n",
       "    </tr>\n",
       "    <tr>\n",
       "      <td>2020-01-20</td>\n",
       "      <td>21.284136</td>\n",
       "      <td>21.990000</td>\n",
       "      <td>21.990000</td>\n",
       "      <td>21.379999</td>\n",
       "      <td>21.570000</td>\n",
       "      <td>1679700.0</td>\n",
       "    </tr>\n",
       "    <tr>\n",
       "      <td>...</td>\n",
       "      <td>...</td>\n",
       "      <td>...</td>\n",
       "      <td>...</td>\n",
       "      <td>...</td>\n",
       "      <td>...</td>\n",
       "      <td>...</td>\n",
       "    </tr>\n",
       "    <tr>\n",
       "      <td>2021-01-08</td>\n",
       "      <td>16.100000</td>\n",
       "      <td>16.100000</td>\n",
       "      <td>16.490000</td>\n",
       "      <td>15.970000</td>\n",
       "      <td>16.270000</td>\n",
       "      <td>1139900.0</td>\n",
       "    </tr>\n",
       "    <tr>\n",
       "      <td>2021-01-11</td>\n",
       "      <td>15.870000</td>\n",
       "      <td>15.870000</td>\n",
       "      <td>16.200001</td>\n",
       "      <td>15.730000</td>\n",
       "      <td>16.200001</td>\n",
       "      <td>1169500.0</td>\n",
       "    </tr>\n",
       "    <tr>\n",
       "      <td>2021-01-12</td>\n",
       "      <td>16.250000</td>\n",
       "      <td>16.250000</td>\n",
       "      <td>16.379999</td>\n",
       "      <td>15.810000</td>\n",
       "      <td>15.840000</td>\n",
       "      <td>807000.0</td>\n",
       "    </tr>\n",
       "    <tr>\n",
       "      <td>2021-01-13</td>\n",
       "      <td>16.240000</td>\n",
       "      <td>16.240000</td>\n",
       "      <td>16.610001</td>\n",
       "      <td>16.110001</td>\n",
       "      <td>16.379999</td>\n",
       "      <td>736600.0</td>\n",
       "    </tr>\n",
       "    <tr>\n",
       "      <td>2021-01-14</td>\n",
       "      <td>NaN</td>\n",
       "      <td>NaN</td>\n",
       "      <td>NaN</td>\n",
       "      <td>NaN</td>\n",
       "      <td>NaN</td>\n",
       "      <td>NaN</td>\n",
       "    </tr>\n",
       "  </tbody>\n",
       "</table>\n",
       "<p>250 rows × 6 columns</p>\n",
       "</div>"
      ],
      "text/plain": [
       "            Adj Close      Close       High        Low       Open     Volume\n",
       "Date                                                                        \n",
       "2020-01-14  19.735495  20.389999  20.590000  20.219999  20.590000   773500.0\n",
       "2020-01-15  19.445126  20.090000  20.360001  20.090000  20.320000   856600.0\n",
       "2020-01-16  19.599987  20.250000  20.440001  20.010000  20.299999  1446200.0\n",
       "2020-01-17  20.867937  21.559999  21.700001  20.299999  20.309999  2520700.0\n",
       "2020-01-20  21.284136  21.990000  21.990000  21.379999  21.570000  1679700.0\n",
       "...               ...        ...        ...        ...        ...        ...\n",
       "2021-01-08  16.100000  16.100000  16.490000  15.970000  16.270000  1139900.0\n",
       "2021-01-11  15.870000  15.870000  16.200001  15.730000  16.200001  1169500.0\n",
       "2021-01-12  16.250000  16.250000  16.379999  15.810000  15.840000   807000.0\n",
       "2021-01-13  16.240000  16.240000  16.610001  16.110001  16.379999   736600.0\n",
       "2021-01-14        NaN        NaN        NaN        NaN        NaN        NaN\n",
       "\n",
       "[250 rows x 6 columns]"
      ]
     },
     "execution_count": 45,
     "metadata": {},
     "output_type": "execute_result"
    }
   ],
   "source": [
    "df.iloc[-250:]"
   ]
  },
  {
   "cell_type": "code",
   "execution_count": null,
   "metadata": {},
   "outputs": [],
   "source": [
    "data.to_sql('hist', conn)"
   ]
  },
  {
   "cell_type": "code",
   "execution_count": null,
   "metadata": {},
   "outputs": [],
   "source": [
    "hist = pd.read_sql_table('hist', conn)"
   ]
  },
  {
   "cell_type": "code",
   "execution_count": null,
   "metadata": {},
   "outputs": [],
   "source": [
    "conn.close()"
   ]
  },
  {
   "cell_type": "code",
   "execution_count": null,
   "metadata": {},
   "outputs": [],
   "source": [
    "hist"
   ]
  },
  {
   "cell_type": "code",
   "execution_count": null,
   "metadata": {
    "scrolled": true
   },
   "outputs": [],
   "source": [
    "hist.set_index('Date')\n",
    "hist.head()"
   ]
  },
  {
   "cell_type": "code",
   "execution_count": null,
   "metadata": {},
   "outputs": [],
   "source": [
    "hist.set_index(hist.Date)\n",
    "hist"
   ]
  },
  {
   "cell_type": "code",
   "execution_count": null,
   "metadata": {},
   "outputs": [],
   "source": [
    "hist.columns"
   ]
  },
  {
   "cell_type": "code",
   "execution_count": null,
   "metadata": {},
   "outputs": [],
   "source": [
    "hist.set_index('Date', drop=True, inplace=True)"
   ]
  },
  {
   "cell_type": "code",
   "execution_count": null,
   "metadata": {},
   "outputs": [],
   "source": [
    "hist"
   ]
  },
  {
   "cell_type": "code",
   "execution_count": null,
   "metadata": {},
   "outputs": [],
   "source": [
    "hist.columns"
   ]
  },
  {
   "cell_type": "code",
   "execution_count": null,
   "metadata": {},
   "outputs": [],
   "source": [
    "from ast import literal_eval\n",
    "a = literal_eval(hist.columns[1])"
   ]
  },
  {
   "cell_type": "code",
   "execution_count": null,
   "metadata": {},
   "outputs": [],
   "source": [
    "lista_index = [i for i in hist.columns[1:5]]\n",
    "lista_index"
   ]
  },
  {
   "cell_type": "code",
   "execution_count": null,
   "metadata": {},
   "outputs": [],
   "source": [
    "nova_lista = map(literal_eval, lista_index)\n",
    "list(nova_lista)"
   ]
  },
  {
   "cell_type": "code",
   "execution_count": null,
   "metadata": {},
   "outputs": [],
   "source": [
    "list(map(literal_eval, list(hist.columns[1:])))[1]"
   ]
  },
  {
   "cell_type": "code",
   "execution_count": null,
   "metadata": {},
   "outputs": [],
   "source": [
    "hist.columns = list(map(literal_eval, hist.columns))"
   ]
  },
  {
   "cell_type": "code",
   "execution_count": null,
   "metadata": {},
   "outputs": [],
   "source": [
    "hist.columns = pd.MultiIndex.from_tuples(hist.columns)"
   ]
  },
  {
   "cell_type": "code",
   "execution_count": null,
   "metadata": {},
   "outputs": [],
   "source": [
    "hist.head()"
   ]
  },
  {
   "cell_type": "code",
   "execution_count": null,
   "metadata": {},
   "outputs": [],
   "source": [
    "hist.columns"
   ]
  },
  {
   "cell_type": "code",
   "execution_count": null,
   "metadata": {
    "scrolled": true
   },
   "outputs": [],
   "source": [
    "hist.iloc[-1]"
   ]
  },
  {
   "cell_type": "code",
   "execution_count": null,
   "metadata": {
    "scrolled": true
   },
   "outputs": [],
   "source": [
    "hist.index[-1].rstrip('00:00:00').rstrip()"
   ]
  },
  {
   "cell_type": "code",
   "execution_count": null,
   "metadata": {
    "scrolled": true
   },
   "outputs": [],
   "source": [
    "data2 = yf.download(acoes, start='2021-01-01')"
   ]
  },
  {
   "cell_type": "code",
   "execution_count": null,
   "metadata": {},
   "outputs": [],
   "source": [
    "hist.index"
   ]
  },
  {
   "cell_type": "code",
   "execution_count": null,
   "metadata": {},
   "outputs": [],
   "source": [
    "hist.index = pd.to_datetime(hist.index)"
   ]
  },
  {
   "cell_type": "code",
   "execution_count": null,
   "metadata": {
    "scrolled": true
   },
   "outputs": [],
   "source": [
    "hist"
   ]
  },
  {
   "cell_type": "code",
   "execution_count": null,
   "metadata": {},
   "outputs": [],
   "source": [
    "hist.index[-1]"
   ]
  },
  {
   "cell_type": "code",
   "execution_count": null,
   "metadata": {},
   "outputs": [],
   "source": [
    "dia = hist.index[-1]"
   ]
  },
  {
   "cell_type": "code",
   "execution_count": null,
   "metadata": {},
   "outputs": [],
   "source": [
    "dia.day"
   ]
  },
  {
   "cell_type": "code",
   "execution_count": null,
   "metadata": {},
   "outputs": [],
   "source": [
    "type(dia.day)"
   ]
  },
  {
   "cell_type": "code",
   "execution_count": null,
   "metadata": {},
   "outputs": [],
   "source": [
    "#>>> pd.to_datetime([1, 2, 3], unit='D',\n",
    "#...                origin=pd.Timestamp('1960-01-01'))\n",
    "#DatetimeIndex(['1960-01-02', '1960-01-03', '1960-01-04'], dtype='datetime64[ns]', freq=None)\n",
    "str(pd.to_datetime(12, unit='Y', origin=dia))"
   ]
  },
  {
   "cell_type": "code",
   "execution_count": null,
   "metadata": {},
   "outputs": [],
   "source": []
  }
 ],
 "metadata": {
  "kernelspec": {
   "display_name": "Python 3",
   "language": "python",
   "name": "python3"
  },
  "language_info": {
   "codemirror_mode": {
    "name": "ipython",
    "version": 3
   },
   "file_extension": ".py",
   "mimetype": "text/x-python",
   "name": "python",
   "nbconvert_exporter": "python",
   "pygments_lexer": "ipython3",
   "version": "3.7.4"
  }
 },
 "nbformat": 4,
 "nbformat_minor": 2
}
